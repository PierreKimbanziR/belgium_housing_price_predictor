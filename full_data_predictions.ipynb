{
 "metadata": {
  "language_info": {
   "codemirror_mode": {
    "name": "ipython",
    "version": 3
   },
   "file_extension": ".py",
   "mimetype": "text/x-python",
   "name": "python",
   "nbconvert_exporter": "python",
   "pygments_lexer": "ipython3",
   "version": "3.8.5"
  },
  "orig_nbformat": 2,
  "kernelspec": {
   "name": "becode_env",
   "display_name": "Python 3.8.5 64-bit ('becode_env': venv)"
  }
 },
 "nbformat": 4,
 "nbformat_minor": 2,
 "cells": [
  {
   "cell_type": "code",
   "execution_count": 1,
   "metadata": {},
   "outputs": [],
   "source": [
    "import pandas as pd\n",
    "import numpy as np\n",
    "from xgboost import XGBRegressor\n",
    "from sklearn.pipeline import make_pipeline\n",
    "from sklearn.preprocessing import StandardScaler, OneHotEncoder, PolynomialFeatures, Normalizer\n",
    "from sklearn.impute import SimpleImputer\n",
    "from sklearn.linear_model import LinearRegression, LogisticRegression\n",
    "from sklearn.ensemble import BaggingRegressor\n",
    "from sklearn.compose import make_column_transformer\n",
    "from sklearn.model_selection import train_test_split\n",
    "\n"
   ]
  },
  {
   "cell_type": "code",
   "execution_count": 2,
   "metadata": {},
   "outputs": [],
   "source": [
    "df = pd.read_csv(\"https://raw.githubusercontent.com/SamuelD005/challenge-regression/development/Data8.csv\", sep=',')\n",
    "del df[\"Unnamed: 0\"]"
   ]
  },
  {
   "cell_type": "code",
   "execution_count": 3,
   "metadata": {},
   "outputs": [],
   "source": [
    "x = df.drop([\"Price\", \"PriceperMeter\"], axis=1)\n",
    "y = df[[\"Price\"]]"
   ]
  },
  {
   "cell_type": "code",
   "execution_count": 4,
   "metadata": {},
   "outputs": [],
   "source": [
    "x_train, x_test, y_train, y_test = train_test_split(x,y, test_size=0.2, random_state=41)"
   ]
  },
  {
   "cell_type": "code",
   "execution_count": 5,
   "metadata": {},
   "outputs": [],
   "source": [
    "numerical_features = ['Number of rooms', 'Area', 'Terrace Area', 'Garden Area', 'Surface of the land']\n",
    "categorical_features = ['Locality','Fully equipped kitchen', 'Furnished','Number of facades',\n",
    "                       'Swimming pool', 'State of the building', 'Province', 'Region']"
   ]
  },
  {
   "cell_type": "code",
   "execution_count": 6,
   "metadata": {},
   "outputs": [],
   "source": [
    "num_pipeline = make_pipeline(SimpleImputer(missing_values=np.nan), StandardScaler(), PolynomialFeatures(degree=3))\n",
    "cat_pipeline = make_pipeline(SimpleImputer(strategy=\"most_frequent\", missing_values=np.nan),OneHotEncoder(handle_unknown='ignore'))"
   ]
  },
  {
   "cell_type": "code",
   "execution_count": 17,
   "metadata": {},
   "outputs": [],
   "source": [
    "preprocessor = make_column_transformer((num_pipeline, numerical_features), (cat_pipeline, categorical_features))\n",
    "b = BaggingRegressor(base_estimator=XGBRegressor(n_estimators=250), n_estimators=5)"
   ]
  },
  {
   "cell_type": "code",
   "execution_count": 18,
   "metadata": {},
   "outputs": [
    {
     "output_type": "stream",
     "name": "stderr",
     "text": [
      "/home/user/Documents/becode_env/lib/python3.8/site-packages/sklearn/utils/validation.py:63: DataConversionWarning: A column-vector y was passed when a 1d array was expected. Please change the shape of y to (n_samples, ), for example using ravel().\n  return f(*args, **kwargs)\n"
     ]
    },
    {
     "output_type": "execute_result",
     "data": {
      "text/plain": [
       "Pipeline(steps=[('columntransformer',\n",
       "                 ColumnTransformer(transformers=[('pipeline-1',\n",
       "                                                  Pipeline(steps=[('simpleimputer',\n",
       "                                                                   SimpleImputer()),\n",
       "                                                                  ('standardscaler',\n",
       "                                                                   StandardScaler()),\n",
       "                                                                  ('polynomialfeatures',\n",
       "                                                                   PolynomialFeatures(degree=3))]),\n",
       "                                                  ['Number of rooms', 'Area',\n",
       "                                                   'Terrace Area',\n",
       "                                                   'Garden Area',\n",
       "                                                   'Surface of the land']),\n",
       "                                                 ('pipeline-2',\n",
       "                                                  Pipeline(steps=[('simpleimputer',\n",
       "                                                                   SimpleIm...\n",
       "                                                              interaction_constraints=None,\n",
       "                                                              learning_rate=None,\n",
       "                                                              max_delta_step=None,\n",
       "                                                              max_depth=None,\n",
       "                                                              min_child_weight=None,\n",
       "                                                              missing=nan,\n",
       "                                                              monotone_constraints=None,\n",
       "                                                              n_estimators=250,\n",
       "                                                              n_jobs=None,\n",
       "                                                              num_parallel_tree=None,\n",
       "                                                              random_state=None,\n",
       "                                                              reg_alpha=None,\n",
       "                                                              reg_lambda=None,\n",
       "                                                              scale_pos_weight=None,\n",
       "                                                              subsample=None,\n",
       "                                                              tree_method=None,\n",
       "                                                              validate_parameters=None,\n",
       "                                                              verbosity=None),\n",
       "                                  n_estimators=5))])"
      ]
     },
     "metadata": {},
     "execution_count": 18
    }
   ],
   "source": [
    "model = make_pipeline(preprocessor, b)\n",
    "model.fit(x_train, y_train)"
   ]
  },
  {
   "cell_type": "code",
   "execution_count": 19,
   "metadata": {},
   "outputs": [
    {
     "output_type": "execute_result",
     "data": {
      "text/plain": [
       "0.7641614937689205"
      ]
     },
     "metadata": {},
     "execution_count": 19
    }
   ],
   "source": [
    "model.score(x_test, y_test)"
   ]
  },
  {
   "cell_type": "code",
   "execution_count": 10,
   "metadata": {},
   "outputs": [],
   "source": [
    "### metrics"
   ]
  },
  {
   "cell_type": "code",
   "execution_count": 14,
   "metadata": {},
   "outputs": [],
   "source": [
    "y_pred = model.predict(x_test)"
   ]
  },
  {
   "cell_type": "code",
   "execution_count": 15,
   "metadata": {},
   "outputs": [
    {
     "output_type": "stream",
     "name": "stdout",
     "text": [
      "Mean squared error : 34346841363.60911\nMean absolute error : 88687.43751069439\nExplained vaiance score : 0.7644807819657247\nr2 score : 0.7644705130619076\n"
     ]
    }
   ],
   "source": [
    "from sklearn.metrics import mean_absolute_error, mean_squared_error, explained_variance_score, r2_score\n",
    "print('Mean squared error : ' + str(mean_squared_error(y_test,y_pred)))\n",
    "print('Mean absolute error : ' + str(mean_absolute_error(y_test,y_pred)))\n",
    "print('Explained vaiance score : ' + str(explained_variance_score(y_test,y_pred)))\n",
    "print('r2 score : ' + str(r2_score(y_test,y_pred)))"
   ]
  },
  {
   "cell_type": "code",
   "execution_count": 16,
   "metadata": {},
   "outputs": [
    {
     "output_type": "execute_result",
     "data": {
      "text/plain": [
       "0.8815572426578941"
      ]
     },
     "metadata": {},
     "execution_count": 16
    }
   ],
   "source": []
  },
  {
   "cell_type": "code",
   "execution_count": null,
   "metadata": {},
   "outputs": [],
   "source": []
  }
 ]
}