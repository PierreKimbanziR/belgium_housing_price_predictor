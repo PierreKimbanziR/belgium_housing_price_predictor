{
 "metadata": {
  "language_info": {
   "codemirror_mode": {
    "name": "ipython",
    "version": 3
   },
   "file_extension": ".py",
   "mimetype": "text/x-python",
   "name": "python",
   "nbconvert_exporter": "python",
   "pygments_lexer": "ipython3",
   "version": "3.8.5"
  },
  "orig_nbformat": 2,
  "kernelspec": {
   "name": "becode_env",
   "display_name": "Python 3.8.5 64-bit ('becode_env': venv)"
  }
 },
 "nbformat": 4,
 "nbformat_minor": 2,
 "cells": [
  {
   "cell_type": "code",
   "execution_count": 1,
   "metadata": {},
   "outputs": [],
   "source": [
    "import pandas as pd\n",
    "import numpy as np\n",
    "from xgboost import XGBRegressor\n",
    "from sklearn.pipeline import make_pipeline\n",
    "from sklearn.preprocessing import StandardScaler, OneHotEncoder, PolynomialFeatures, Normalizer\n",
    "from sklearn.impute import SimpleImputer\n",
    "from sklearn.linear_model import LinearRegression, LogisticRegression\n",
    "from sklearn.ensemble import BaggingRegressor\n",
    "from sklearn.compose import make_column_transformer\n",
    "from sklearn.model_selection import train_test_split\n",
    "\n"
   ]
  },
  {
   "cell_type": "code",
   "execution_count": 19,
   "metadata": {},
   "outputs": [],
   "source": [
    "df = pd.read_csv(\"https://raw.githubusercontent.com/SamuelD005/challenge-regression/development/Data8.csv\", sep=',')\n",
    "del df[\"Unnamed: 0\"]"
   ]
  },
  {
   "cell_type": "code",
   "execution_count": 21,
   "metadata": {},
   "outputs": [],
   "source": [
    "apparts = df[df[\"Type of property\"] == \"apartment\"]\n",
    "appart_x = apparts.drop([\"Price\", \"PriceperMeter\"], axis=1)\n",
    "apparts_y = apparts[\"Price\"]"
   ]
  },
  {
   "cell_type": "code",
   "execution_count": 22,
   "metadata": {},
   "outputs": [],
   "source": [
    "X_train, X_test, y_train, y_test = train_test_split(appart_x, apparts_y, test_size=0.2, random_state=41)\n"
   ]
  },
  {
   "cell_type": "code",
   "execution_count": 25,
   "metadata": {},
   "outputs": [],
   "source": [
    "numerical_features = ['Number of rooms', 'Area', 'Terrace Area', 'Garden Area', 'Surface of the land']\n",
    "categorical_features = ['Locality','Fully equipped kitchen', 'Furnished','Number of facades',\n",
    "                       'Swimming pool', 'State of the building', 'Province', 'Region']"
   ]
  },
  {
   "cell_type": "code",
   "execution_count": 26,
   "metadata": {},
   "outputs": [],
   "source": [
    "num_pipeline = make_pipeline(SimpleImputer(missing_values=np.nan), StandardScaler(), PolynomialFeatures(degree=3))\n",
    "cat_pipeline = make_pipeline(SimpleImputer(strategy=\"most_frequent\", missing_values=np.nan),OneHotEncoder(handle_unknown='ignore'))"
   ]
  },
  {
   "cell_type": "code",
   "execution_count": 33,
   "metadata": {},
   "outputs": [],
   "source": [
    "preprocessor = make_column_transformer((num_pipeline, numerical_features), (cat_pipeline, categorical_features))\n",
    "b = BaggingRegressor(base_estimator=XGBRegressor(n_estimators=150), n_estimators=16)"
   ]
  },
  {
   "cell_type": "code",
   "execution_count": 34,
   "metadata": {},
   "outputs": [
    {
     "output_type": "execute_result",
     "data": {
      "text/plain": [
       "Pipeline(steps=[('columntransformer',\n",
       "                 ColumnTransformer(transformers=[('pipeline-1',\n",
       "                                                  Pipeline(steps=[('simpleimputer',\n",
       "                                                                   SimpleImputer()),\n",
       "                                                                  ('standardscaler',\n",
       "                                                                   StandardScaler()),\n",
       "                                                                  ('polynomialfeatures',\n",
       "                                                                   PolynomialFeatures(degree=3))]),\n",
       "                                                  ['Number of rooms', 'Area',\n",
       "                                                   'Terrace Area',\n",
       "                                                   'Garden Area',\n",
       "                                                   'Surface of the land']),\n",
       "                                                 ('pipeline-2',\n",
       "                                                  Pipeline(steps=[('simpleimputer',\n",
       "                                                                   SimpleIm...\n",
       "                                                              interaction_constraints=None,\n",
       "                                                              learning_rate=None,\n",
       "                                                              max_delta_step=None,\n",
       "                                                              max_depth=None,\n",
       "                                                              min_child_weight=None,\n",
       "                                                              missing=nan,\n",
       "                                                              monotone_constraints=None,\n",
       "                                                              n_estimators=150,\n",
       "                                                              n_jobs=None,\n",
       "                                                              num_parallel_tree=None,\n",
       "                                                              random_state=None,\n",
       "                                                              reg_alpha=None,\n",
       "                                                              reg_lambda=None,\n",
       "                                                              scale_pos_weight=None,\n",
       "                                                              subsample=None,\n",
       "                                                              tree_method=None,\n",
       "                                                              validate_parameters=None,\n",
       "                                                              verbosity=None),\n",
       "                                  n_estimators=20))])"
      ]
     },
     "metadata": {},
     "execution_count": 34
    }
   ],
   "source": [
    "model = make_pipeline(preprocessor, b)\n",
    "model.fit(X_train, y_train)"
   ]
  },
  {
   "cell_type": "code",
   "execution_count": 35,
   "metadata": {},
   "outputs": [
    {
     "output_type": "execute_result",
     "data": {
      "text/plain": [
       "0.7665853476003461"
      ]
     },
     "metadata": {},
     "execution_count": 35
    }
   ],
   "source": [
    "model.score(X_test, y_test)"
   ]
  },
  {
   "source": [
    "### Metrics"
   ],
   "cell_type": "markdown",
   "metadata": {}
  },
  {
   "cell_type": "code",
   "execution_count": 37,
   "metadata": {},
   "outputs": [],
   "source": [
    "y_pred = model.predict(X_test)"
   ]
  },
  {
   "cell_type": "code",
   "execution_count": 39,
   "metadata": {},
   "outputs": [
    {
     "output_type": "stream",
     "name": "stdout",
     "text": [
      "Mean squared error : 20238465594.252827\n",
      "Mean absolute error : 65133.54737404409\n",
      "Explained vaiance score : 0.7668364523911433\n",
      "r2 score : 0.7665853476003461\n"
     ]
    }
   ],
   "source": [
    "from sklearn.metrics import mean_absolute_error, mean_squared_error, explained_variance_score, r2_score\n",
    "print('Mean squared error : ' + str(mean_squared_error(y_test,y_pred)))\n",
    "print('Mean absolute error : ' + str(mean_absolute_error(y_test,y_pred)))\n",
    "print('Explained vaiance score : ' + str(explained_variance_score(y_test,y_pred)))\n",
    "print('r2 score : ' + str(r2_score(y_test,y_pred)))\n"
   ]
  },
  {
   "cell_type": "code",
   "execution_count": null,
   "metadata": {},
   "outputs": [],
   "source": []
  }
 ]
}